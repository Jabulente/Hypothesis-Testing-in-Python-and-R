{
 "cells": [
  {
   "cell_type": "markdown",
   "id": "b3f8c504-490b-4881-a453-becacad36e79",
   "metadata": {},
   "source": [
    "<h2 style='font-size: 45px; color: green; font-family: Dubai; font-weight: 600'>T-Tests for Pairwise Comparison</h2>\n",
    "\n",
    "A t-test is a statistical method used to determine whether there is a significant difference between the means of two groups. It is commonly applied in hypothesis testing when comparing the means of two datasets, particularly when the data is approximately normally distributed and the sample sizes are small. The t-test evaluates whether the observed difference in means is due to random variation or a true effect."
   ]
  },
  {
   "cell_type": "markdown",
   "id": "29343e0e-29d1-4e47-befb-a8340bcc16da",
   "metadata": {},
   "source": [
    "<span style='font-size: 35px; color: crimson; font-family: Dubai; font-weight: 600'>Types of T-Tests</span>\n",
    "\n",
    "1. ***Independent Samples T-Test***  \n",
    "   - ***Purpose:*** Compares the means of two independent groups (e.g., comparing test scores of two different classes).  \n",
    "   - ***When to Use:*** When the groups are unrelated, and the observations in one group do not influence those in the other.  \n",
    "   - ***Assumptions:***  \n",
    "     - The data is normally distributed.  \n",
    "     - Homogeneity of variances (equal variance across groups).  \n",
    "     - Observations are independent.  \n",
    "\n",
    "2. ***Paired Samples T-Test*** (also known as Dependent or Repeated Measures T-Test)  \n",
    "   - ***Purpose:*** Compares the means of two related groups (e.g., before-and-after measurements in a single group).  \n",
    "   - ***When to Use:*** When the data comes from the same subjects measured at two different times or under two different conditions.  \n",
    "   - ***Assumptions:***  \n",
    "     - The differences between paired observations are normally distributed.  \n",
    "     - The observations within each group are dependent.  \n",
    "\n",
    "3. ***One-Sample T-Test***  \n",
    "   - ***Purpose:*** Compares the mean of a single sample to a known value or population mean (e.g., testing if the average test score in a class differs from a national average).  \n",
    "   - ***When to Use:*** When you want to test if the sample mean significantly deviates from a specified value.  \n",
    "   - ***Assumptions:***  \n",
    "     - The sample is randomly drawn.  \n",
    "     - The data is approximately normally distributed.  \n",
    "\n",
    "<span style='font-size: 35px; color: crimson; font-family: Dubai; font-weight: 600'>When to Use a T-Test</span>\n",
    " \n",
    "- Use a t-test when comparing means and the sample size is relatively small (<30).  \n",
    "- Ensure assumptions such as normality, independence, and equal variance (for independent t-tests) are met.  \n",
    "- For larger datasets or non-normal data, consider alternative methods like the Mann-Whitney U test (for independent groups) or Wilcoxon signed-rank test (for paired groups).  "
   ]
  },
  {
   "cell_type": "markdown",
   "id": "b13e4d59-ee9e-4cf7-bc56-41dd27911152",
   "metadata": {},
   "source": [
    "### ***Import Required Libraries***"
   ]
  },
  {
   "cell_type": "code",
   "execution_count": 10,
   "id": "59526079-662c-4a49-b69e-bde07042a3a2",
   "metadata": {},
   "outputs": [
    {
     "name": "stdout",
     "output_type": "stream",
     "text": [
      "Libraries loaded Succesfully\n"
     ]
    }
   ],
   "source": [
    "import numpy as np\n",
    "import pandas as pd\n",
    "import matplotlib.pyplot as plt\n",
    "import seaborn as sns\n",
    "from scipy.stats import ttest_ind, ttest_rel, ttest_1samp\n",
    "\n",
    "print('Libraries loaded Succesfully')"
   ]
  },
  {
   "cell_type": "code",
   "execution_count": 7,
   "id": "257e56cd-9f24-4d47-b7da-6c8edc4b0fc2",
   "metadata": {},
   "outputs": [
    {
     "data": {
      "text/html": [
       "<div>\n",
       "<style scoped>\n",
       "    .dataframe tbody tr th:only-of-type {\n",
       "        vertical-align: middle;\n",
       "    }\n",
       "\n",
       "    .dataframe tbody tr th {\n",
       "        vertical-align: top;\n",
       "    }\n",
       "\n",
       "    .dataframe thead th {\n",
       "        text-align: right;\n",
       "    }\n",
       "</style>\n",
       "<table border=\"1\" class=\"dataframe\">\n",
       "  <thead>\n",
       "    <tr style=\"text-align: right;\">\n",
       "      <th></th>\n",
       "      <th>Fertilizer</th>\n",
       "      <th>Yield (tones/ha)</th>\n",
       "      <th>Days to Maturity</th>\n",
       "      <th>Biomass</th>\n",
       "      <th>Dry matter</th>\n",
       "      <th>Irrigation</th>\n",
       "    </tr>\n",
       "  </thead>\n",
       "  <tbody>\n",
       "    <tr>\n",
       "      <th>0</th>\n",
       "      <td>C</td>\n",
       "      <td>38.874970</td>\n",
       "      <td>6.261850</td>\n",
       "      <td>2.525738</td>\n",
       "      <td>75.436679</td>\n",
       "      <td>Furrow Irrigation</td>\n",
       "    </tr>\n",
       "    <tr>\n",
       "      <th>1</th>\n",
       "      <td>A</td>\n",
       "      <td>29.921425</td>\n",
       "      <td>7.194156</td>\n",
       "      <td>2.594134</td>\n",
       "      <td>51.828069</td>\n",
       "      <td>Sprinkler Irrigation</td>\n",
       "    </tr>\n",
       "    <tr>\n",
       "      <th>2</th>\n",
       "      <td>C</td>\n",
       "      <td>41.152436</td>\n",
       "      <td>7.329974</td>\n",
       "      <td>3.760430</td>\n",
       "      <td>49.058974</td>\n",
       "      <td>Drip Irrigation</td>\n",
       "    </tr>\n",
       "    <tr>\n",
       "      <th>3</th>\n",
       "      <td>C</td>\n",
       "      <td>42.161544</td>\n",
       "      <td>7.137822</td>\n",
       "      <td>3.340263</td>\n",
       "      <td>46.778604</td>\n",
       "      <td>Furrow Irrigation</td>\n",
       "    </tr>\n",
       "    <tr>\n",
       "      <th>4</th>\n",
       "      <td>A</td>\n",
       "      <td>36.715841</td>\n",
       "      <td>6.615320</td>\n",
       "      <td>3.701663</td>\n",
       "      <td>57.817993</td>\n",
       "      <td>Furrow Irrigation</td>\n",
       "    </tr>\n",
       "  </tbody>\n",
       "</table>\n",
       "</div>"
      ],
      "text/plain": [
       "  Fertilizer  Yield (tones/ha)  Days to Maturity   Biomass  Dry matter  \\\n",
       "0          C         38.874970          6.261850  2.525738   75.436679   \n",
       "1          A         29.921425          7.194156  2.594134   51.828069   \n",
       "2          C         41.152436          7.329974  3.760430   49.058974   \n",
       "3          C         42.161544          7.137822  3.340263   46.778604   \n",
       "4          A         36.715841          6.615320  3.701663   57.817993   \n",
       "\n",
       "             Irrigation  \n",
       "0     Furrow Irrigation  \n",
       "1  Sprinkler Irrigation  \n",
       "2       Drip Irrigation  \n",
       "3     Furrow Irrigation  \n",
       "4     Furrow Irrigation  "
      ]
     },
     "execution_count": 7,
     "metadata": {},
     "output_type": "execute_result"
    }
   ],
   "source": [
    "df = pd.read_csv('Datasets/Hypothesis 101.csv')\n",
    "df.head()"
   ]
  },
  {
   "cell_type": "markdown",
   "id": "13a8bc38-8265-439d-80ef-a68164a608d4",
   "metadata": {},
   "source": [
    "<span style='font-size: 20px; color: crimson; font-family: Dubai; font-weight: 600'>Independent samples data</span>\n"
   ]
  },
  {
   "cell_type": "code",
   "execution_count": 11,
   "id": "6ef17578-ed9f-4d80-8ee0-2c7a29d502d4",
   "metadata": {},
   "outputs": [
    {
     "name": "stdout",
     "output_type": "stream",
     "text": [
      "Independent Samples T-Test\n",
      "t-statistic: -2.736, p-value: 0.008\n",
      "\n"
     ]
    }
   ],
   "source": [
    "group1 = np.random.normal(50, 10, 30)  # Mean=50, StdDev=10, Size=30\n",
    "group2 = np.random.normal(55, 10, 30)  # Mean=55, StdDev=10, Size=30\n",
    "\n",
    "# 1. Independent Samples T-Test\n",
    "ind_t_stat, ind_p_value = ttest_ind(group1, group2)\n",
    "print(\"Independent Samples T-Test\")\n",
    "print(f\"t-statistic: {ind_t_stat:.3f}, p-value: {ind_p_value:.3f}\\n\")"
   ]
  },
  {
   "cell_type": "markdown",
   "id": "7b443d1e-19bf-4dc3-b127-1f3974470f58",
   "metadata": {},
   "source": [
    "<span style='font-size: 20px; color: crimson; font-family: Dubai; font-weight: 600'>Paired samples data (e.g., before and after)</span>\n"
   ]
  },
  {
   "cell_type": "code",
   "execution_count": 12,
   "id": "0f9c8ac6-7026-4b29-919c-bac49e3cd376",
   "metadata": {},
   "outputs": [
    {
     "name": "stdout",
     "output_type": "stream",
     "text": [
      "Paired Samples T-Test\n",
      "t-statistic: 15.030, p-value: 0.000\n",
      "\n"
     ]
    }
   ],
   "source": [
    "before = np.random.normal(70, 5, 30)  # Mean=70, StdDev=5, Size=30\n",
    "after = before + np.random.normal(-2, 1, 30)  # Slight decrease from \"before\"\n",
    "\n",
    "# 2. Paired Samples T-Test\n",
    "paired_t_stat, paired_p_value = ttest_rel(before, after)\n",
    "print(\"Paired Samples T-Test\")\n",
    "print(f\"t-statistic: {paired_t_stat:.3f}, p-value: {paired_p_value:.3f}\\n\")"
   ]
  },
  {
   "cell_type": "markdown",
   "id": "7dcc0467-8b8e-4fc5-8f14-1d7eb93364ac",
   "metadata": {},
   "source": [
    "<span style='font-size: 20px; color: crimson; font-family: Dubai; font-weight: 600'>One-sample data</span>"
   ]
  },
  {
   "cell_type": "code",
   "execution_count": 15,
   "id": "e95cfa53-91ea-48cd-8f3f-505dab0e4e4b",
   "metadata": {},
   "outputs": [
    {
     "name": "stdout",
     "output_type": "stream",
     "text": [
      "One-Sample T-Test\n",
      "t-statistic: -2.063, p-value: 0.048\n",
      "\n"
     ]
    }
   ],
   "source": [
    "# One-sample data\n",
    "sample = np.random.normal(100, 15, 30)  # Mean=100, StdDev=15, Size=30\n",
    "population_mean = 105  # Known or expected population mean\n",
    "\n",
    "\n",
    "# 3. One-Sample T-Test\n",
    "one_sample_t_stat, one_sample_p_value = ttest_1samp(sample, population_mean)\n",
    "print(\"One-Sample T-Test\")\n",
    "print(f\"t-statistic: {one_sample_t_stat:.3f}, p-value: {one_sample_p_value:.3f}\\n\")"
   ]
  },
  {
   "cell_type": "code",
   "execution_count": 17,
   "id": "622c5c2a-7a6d-4db4-ae2d-896642fae218",
   "metadata": {},
   "outputs": [
    {
     "data": {
      "text/html": [
       "<div>\n",
       "<style scoped>\n",
       "    .dataframe tbody tr th:only-of-type {\n",
       "        vertical-align: middle;\n",
       "    }\n",
       "\n",
       "    .dataframe tbody tr th {\n",
       "        vertical-align: top;\n",
       "    }\n",
       "\n",
       "    .dataframe thead th {\n",
       "        text-align: right;\n",
       "    }\n",
       "</style>\n",
       "<table border=\"1\" class=\"dataframe\">\n",
       "  <thead>\n",
       "    <tr style=\"text-align: right;\">\n",
       "      <th></th>\n",
       "      <th>Test Type</th>\n",
       "      <th>t-Statistic</th>\n",
       "      <th>p-Value</th>\n",
       "      <th>Interpretation</th>\n",
       "    </tr>\n",
       "  </thead>\n",
       "  <tbody>\n",
       "    <tr>\n",
       "      <th>0</th>\n",
       "      <td>Independent Samples</td>\n",
       "      <td>-2.736171</td>\n",
       "      <td>8.235422e-03</td>\n",
       "      <td>Significant difference</td>\n",
       "    </tr>\n",
       "    <tr>\n",
       "      <th>1</th>\n",
       "      <td>Paired Samples</td>\n",
       "      <td>15.030070</td>\n",
       "      <td>3.189897e-15</td>\n",
       "      <td>Significant difference</td>\n",
       "    </tr>\n",
       "    <tr>\n",
       "      <th>2</th>\n",
       "      <td>One Sample</td>\n",
       "      <td>-2.062856</td>\n",
       "      <td>4.818223e-02</td>\n",
       "      <td>Significant difference</td>\n",
       "    </tr>\n",
       "  </tbody>\n",
       "</table>\n",
       "</div>"
      ],
      "text/plain": [
       "             Test Type  t-Statistic       p-Value          Interpretation\n",
       "0  Independent Samples    -2.736171  8.235422e-03  Significant difference\n",
       "1       Paired Samples    15.030070  3.189897e-15  Significant difference\n",
       "2           One Sample    -2.062856  4.818223e-02  Significant difference"
      ]
     },
     "execution_count": 17,
     "metadata": {},
     "output_type": "execute_result"
    }
   ],
   "source": [
    "results = {\n",
    "    \"Test Type\": [\"Independent Samples\", \"Paired Samples\", \"One Sample\"],\n",
    "    \"t-Statistic\": [ind_t_stat, paired_t_stat, one_sample_t_stat],\n",
    "    \"p-Value\": [ind_p_value, paired_p_value, one_sample_p_value],\n",
    "    \"Interpretation\": [\n",
    "        \"Significant difference\" if ind_p_value < 0.05 else \"No significant difference\",\n",
    "        \"Significant difference\" if paired_p_value < 0.05 else \"No significant difference\",\n",
    "        \"Significant difference\" if one_sample_p_value < 0.05 else \"No significant difference\",\n",
    "    ],\n",
    "}\n",
    "\n",
    "df_results = pd.DataFrame(results)\n",
    "df_results"
   ]
  },
  {
   "cell_type": "markdown",
   "id": "b5cd6cfc-e6b4-4e84-a27f-909efe6375a2",
   "metadata": {},
   "source": [
    "<span style='font-size: 20px; color: crimson; font-family: Dubai; font-weight: 600'>iterative_t_tests</span>"
   ]
  },
  {
   "cell_type": "code",
   "execution_count": 9,
   "id": "fcaff14b-9e86-467f-9e00-216c4010caa2",
   "metadata": {},
   "outputs": [
    {
     "data": {
      "text/html": [
       "<div>\n",
       "<style scoped>\n",
       "    .dataframe tbody tr th:only-of-type {\n",
       "        vertical-align: middle;\n",
       "    }\n",
       "\n",
       "    .dataframe tbody tr th {\n",
       "        vertical-align: top;\n",
       "    }\n",
       "\n",
       "    .dataframe thead th {\n",
       "        text-align: right;\n",
       "    }\n",
       "</style>\n",
       "<table border=\"1\" class=\"dataframe\">\n",
       "  <thead>\n",
       "    <tr style=\"text-align: right;\">\n",
       "      <th></th>\n",
       "      <th>Group 1</th>\n",
       "      <th>Group 2</th>\n",
       "      <th>T-Statistic</th>\n",
       "      <th>P-Value</th>\n",
       "    </tr>\n",
       "  </thead>\n",
       "  <tbody>\n",
       "    <tr>\n",
       "      <th>0</th>\n",
       "      <td>C</td>\n",
       "      <td>A</td>\n",
       "      <td>16.204128</td>\n",
       "      <td>1.726368e-38</td>\n",
       "    </tr>\n",
       "    <tr>\n",
       "      <th>1</th>\n",
       "      <td>C</td>\n",
       "      <td>B</td>\n",
       "      <td>6.663340</td>\n",
       "      <td>2.906105e-10</td>\n",
       "    </tr>\n",
       "    <tr>\n",
       "      <th>2</th>\n",
       "      <td>A</td>\n",
       "      <td>B</td>\n",
       "      <td>-7.941152</td>\n",
       "      <td>1.983441e-13</td>\n",
       "    </tr>\n",
       "  </tbody>\n",
       "</table>\n",
       "</div>"
      ],
      "text/plain": [
       "  Group 1 Group 2  T-Statistic       P-Value\n",
       "0       C       A    16.204128  1.726368e-38\n",
       "1       C       B     6.663340  2.906105e-10\n",
       "2       A       B    -7.941152  1.983441e-13"
      ]
     },
     "execution_count": 9,
     "metadata": {},
     "output_type": "execute_result"
    }
   ],
   "source": [
    "from itertools import combinations\n",
    "\n",
    "def iterative_t_tests(df, group_column, value_column):\n",
    "    unique_groups = df[group_column].unique()\n",
    "    group_combinations = list(combinations(unique_groups, 2))\n",
    "\n",
    "    \n",
    "    results = []\n",
    "    \n",
    "    for group1, group2 in group_combinations:\n",
    "        # Filter data for the two groups\n",
    "        group1_data = df[df[group_column] == group1][value_column]\n",
    "        group2_data = df[df[group_column] == group2][value_column]\n",
    "        \n",
    "        # Perform t-test\n",
    "        t_stat, p_value = ttest_ind(group1_data, group2_data, equal_var=False)\n",
    "        \n",
    "        # Append results\n",
    "        results.append({\n",
    "            'Group 1': group1,\n",
    "            'Group 2': group2,\n",
    "            'T-Statistic': t_stat,\n",
    "            'P-Value': p_value\n",
    "        })\n",
    "    \n",
    "    # Convert results to a DataFrame\n",
    "    results_df = pd.DataFrame(results)\n",
    "    return results_df\n",
    "\n",
    "# Example usage\n",
    "t_test_results = iterative_t_tests(df, group_column='Fertilizer', value_column='Yield (tones/ha)')\n",
    "t_test_results"
   ]
  }
 ],
 "metadata": {
  "kernelspec": {
   "display_name": "Python 3 (ipykernel)",
   "language": "python",
   "name": "python3"
  },
  "language_info": {
   "codemirror_mode": {
    "name": "ipython",
    "version": 3
   },
   "file_extension": ".py",
   "mimetype": "text/x-python",
   "name": "python",
   "nbconvert_exporter": "python",
   "pygments_lexer": "ipython3",
   "version": "3.11.8"
  }
 },
 "nbformat": 4,
 "nbformat_minor": 5
}
